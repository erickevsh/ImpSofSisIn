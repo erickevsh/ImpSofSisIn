{
 "cells": [
  {
   "cell_type": "code",
   "execution_count": 11,
   "id": "b64cc9d4-a01c-4edf-b44a-f4cc741ebb4d",
   "metadata": {},
   "outputs": [
    {
     "ename": "TypeError",
     "evalue": "'str' object cannot be interpreted as an integer",
     "output_type": "error",
     "traceback": [
      "\u001b[1;31m---------------------------------------------------------------------------\u001b[0m",
      "\u001b[1;31mTypeError\u001b[0m                                 Traceback (most recent call last)",
      "Cell \u001b[1;32mIn[11], line 25\u001b[0m\n\u001b[0;32m     23\u001b[0m \u001b[38;5;66;03m#----Iniciar el script\u001b[39;00m\n\u001b[0;32m     24\u001b[0m \u001b[38;5;28;01mif\u001b[39;00m \u001b[38;5;18m__name__\u001b[39m\u001b[38;5;241m==\u001b[39m\u001b[38;5;124m'\u001b[39m\u001b[38;5;124m__main__\u001b[39m\u001b[38;5;124m'\u001b[39m:\n\u001b[1;32m---> 25\u001b[0m     fizzbuzz(\u001b[38;5;124m'\u001b[39m\u001b[38;5;124m16\u001b[39m\u001b[38;5;124m'\u001b[39m)\n",
      "Cell \u001b[1;32mIn[11], line 14\u001b[0m, in \u001b[0;36mfizzbuzz\u001b[1;34m(max_num)\u001b[0m\n\u001b[0;32m     12\u001b[0m \u001b[38;5;28;01mdef\u001b[39;00m \u001b[38;5;21mfizzbuzz\u001b[39m(max_num):\n\u001b[1;32m---> 14\u001b[0m     \u001b[38;5;28;01mfor\u001b[39;00m i \u001b[38;5;129;01min\u001b[39;00m \u001b[38;5;28mrange\u001b[39m(\u001b[38;5;241m1\u001b[39m,max_num):\n\u001b[0;32m     16\u001b[0m         \u001b[38;5;28;01mif\u001b[39;00m i\u001b[38;5;241m%\u001b[39m\u001b[38;5;241m3\u001b[39m\u001b[38;5;241m==\u001b[39m\u001b[38;5;241m0\u001b[39m \u001b[38;5;129;01mand\u001b[39;00m i\u001b[38;5;241m%\u001b[39m\u001b[38;5;241m5\u001b[39m\u001b[38;5;241m==\u001b[39m\u001b[38;5;241m0\u001b[39m:\n\u001b[0;32m     17\u001b[0m             \u001b[38;5;28mprint\u001b[39m(i,\u001b[38;5;124m\"\u001b[39m\u001b[38;5;124mfizzbuzz\u001b[39m\u001b[38;5;124m\"\u001b[39m)\n",
      "\u001b[1;31mTypeError\u001b[0m: 'str' object cannot be interpreted as an integer"
     ]
    }
   ],
   "source": [
    "\"\"\"\n",
    "Usaremos este script para enseñar Python a principiantes absolutos.\n",
    "El script es un ejemplo de Fizz-Buzz implementado en Python.\n",
    "\n",
    "El problema de FizzBuzz:\n",
    "Para todos los enteros entre 1 y 99 (incluidos ambos):\n",
    "    # imprimir fizz para múltiplos de 3\n",
    "    # imprimir buzz para múltiplos de 5\n",
    "    # imprimir fizzbuzz para múltiplos de 3 y 5\n",
    "\"\"\"\n",
    "\n",
    "def fizzbuzz(max_num):\n",
    "   \n",
    "    for i in range(1,max_num):\n",
    "        \n",
    "        if i%3==0 and i%5==0:\n",
    "            print(i,\"fizzbuzz\")\n",
    "        elif i%3 == 0:\n",
    "            print(i,\"fizz\")\n",
    "        elif i%5==0:\n",
    "            print(i,\"Buzz\")\n",
    "\n",
    "#----Iniciar el script\n",
    "if __name__=='__main__':\n",
    "    fizzbuzz('16')\n"
   ]
  }
 ],
 "metadata": {
  "kernelspec": {
   "display_name": "Python [conda env:base] *",
   "language": "python",
   "name": "conda-base-py"
  },
  "language_info": {
   "codemirror_mode": {
    "name": "ipython",
    "version": 3
   },
   "file_extension": ".py",
   "mimetype": "text/x-python",
   "name": "python",
   "nbconvert_exporter": "python",
   "pygments_lexer": "ipython3",
   "version": "3.12.7"
  }
 },
 "nbformat": 4,
 "nbformat_minor": 5
}
