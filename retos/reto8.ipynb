{
 "cells": [
  {
   "cell_type": "code",
   "execution_count": 1,
   "id": "adb9346a-e832-4ecc-a69f-b31b8126b8b6",
   "metadata": {},
   "outputs": [
    {
     "ename": "TypeError",
     "evalue": "Fizz_Buzz.fizzbuzz() takes 1 positional argument but 2 were given",
     "output_type": "error",
     "traceback": [
      "\u001b[1;31m---------------------------------------------------------------------------\u001b[0m",
      "\u001b[1;31mTypeError\u001b[0m                                 Traceback (most recent call last)",
      "Cell \u001b[1;32mIn[1], line 21\u001b[0m\n\u001b[0;32m     19\u001b[0m \u001b[38;5;124m\"\u001b[39m\u001b[38;5;124mInitialize the fizzbuzz object\u001b[39m\u001b[38;5;124m\"\u001b[39m\n\u001b[0;32m     20\u001b[0m fizzbuzz_obj \u001b[38;5;241m=\u001b[39m Fizz_Buzz()\n\u001b[1;32m---> 21\u001b[0m fizzbuzz_obj\u001b[38;5;241m.\u001b[39mfizzbuzz(\u001b[38;5;241m100\u001b[39m)\n",
      "\u001b[1;31mTypeError\u001b[0m: Fizz_Buzz.fizzbuzz() takes 1 positional argument but 2 were given"
     ]
    }
   ],
   "source": [
    "class Fizz_Buzz:\n",
    "    def fizzbuzz(max_num):\n",
    "        \n",
    "        three_mul = 'fizz'\n",
    "        five_mul = 'buzz'\n",
    "        num1 = 3\n",
    "        num2 = 5 \n",
    "\n",
    "        for i in range(1,max_num):\n",
    "            if i%num1==0 and i%num2==0:\n",
    "                print(i,three_mul+five_mul)\n",
    "            elif i%num1==0:\n",
    "                print(i,three_mul)\n",
    "            elif i%num2==0:\n",
    "                print(i,five_mul)\n",
    "\n",
    "#----START OF SCRIPT\n",
    "if __name__=='__main__':\n",
    "    \"Initialize the fizzbuzz object\"\n",
    "    fizzbuzz_obj = Fizz_Buzz()\n",
    "    fizzbuzz_obj.fizzbuzz(100)\n",
    "    "
   ]
  }
 ],
 "metadata": {
  "kernelspec": {
   "display_name": "Python [conda env:base] *",
   "language": "python",
   "name": "conda-base-py"
  },
  "language_info": {
   "codemirror_mode": {
    "name": "ipython",
    "version": 3
   },
   "file_extension": ".py",
   "mimetype": "text/x-python",
   "name": "python",
   "nbconvert_exporter": "python",
   "pygments_lexer": "ipython3",
   "version": "3.12.7"
  }
 },
 "nbformat": 4,
 "nbformat_minor": 5
}
